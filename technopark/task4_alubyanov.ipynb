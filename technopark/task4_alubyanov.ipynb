{
 "cells": [
  {
   "cell_type": "code",
   "execution_count": 1,
   "metadata": {},
   "outputs": [
    {
     "name": "stdout",
     "output_type": "stream",
     "text": [
      "Starting Spark application\n"
     ]
    },
    {
     "data": {
      "text/html": [
       "<table>\n",
       "<tr><th>ID</th><th>YARN Application ID</th><th>Kind</th><th>State</th><th>Spark UI</th><th>Driver log</th><th>Current session?</th></tr><tr><td>209</td><td>application_1573843665329_0153</td><td>pyspark</td><td>idle</td><td><a target=\"_blank\" href=\"http://mailpark2-head-0.novalocal:8088/proxy/application_1573843665329_0153/\">Link</a></td><td><a target=\"_blank\" href=\"http://mailpark2-worker-2.novalocal:8042/node/containerlogs/container_e05_1573843665329_0153_01_000001/livy\">Link</a></td><td>✔</td></tr></table>"
      ],
      "text/plain": [
       "<IPython.core.display.HTML object>"
      ]
     },
     "metadata": {},
     "output_type": "display_data"
    },
    {
     "name": "stdout",
     "output_type": "stream",
     "text": [
      "SparkSession available as 'spark'.\n"
     ]
    }
   ],
   "source": [
    "# task4\n",
    "# Впишите ваш логин. Например \"vpetrov\"\n",
    "user = \"alubyanov\""
   ]
  },
  {
   "cell_type": "code",
   "execution_count": 2,
   "metadata": {},
   "outputs": [],
   "source": [
    "# В данной ячейке параметры не меняем! \n",
    "from pyspark.sql.types import *\n",
    "import pyspark.sql.functions as sf\n",
    "\n",
    "current_dt = \"2019-11-12\"\n",
    "\n",
    "demography_path = \"/user/{}/data/data3/ok/coreDemography\".format(user)\n",
    "country_path = \"/user/{}/data/data3/ok/geography/countries.csv\".format(user)\n",
    "\n",
    "# Путь до результата\n",
    "output_path = \"/user/{}/task4\".format(user)"
   ]
  },
  {
   "cell_type": "code",
   "execution_count": 3,
   "metadata": {},
   "outputs": [],
   "source": [
    "#создание объекта текущей даты\n",
    "import datetime\n",
    "cur_dt = datetime.datetime.strptime(current_dt, '%Y-%m-%d')\n",
    "current_year = cur_dt.year\n",
    "current_month = cur_dt.month\n",
    "current_day = cur_dt.day"
   ]
  },
  {
   "cell_type": "code",
   "execution_count": 5,
   "metadata": {},
   "outputs": [],
   "source": [
    "data_demography = (spark.read\n",
    "                 .option(\"header\", \"false\")\n",
    "                 .option(\"sep\", \"\\t\")\n",
    "                 .csv(demography_path)\n",
    "                )\n",
    "data_country = (spark.read\n",
    "                 .option(\"header\", \"false\")\n",
    "                 .option(\"sep\", \",\")\n",
    "                 .csv(country_path )\n",
    "                )\n",
    "\n",
    "# Приводим типы и задаем названия полей.\n",
    "demography = (\n",
    "    data_demography\n",
    "    .select(\n",
    "        sf.col(\"_c0\").cast(IntegerType()).alias(\"userId\"),\n",
    "        sf.col(\"_c1\").cast(LongType()).alias(\"create_date\"),\n",
    "        sf.col(\"_c2\").cast(LongType()).alias(\"birth_date\"),\n",
    "        sf.col(\"_c3\").cast(ShortType()).alias(\"gender\"),\n",
    "        sf.col(\"_c4\").cast(LongType()).alias(\"ID_country\"),\n",
    "        sf.col(\"_c5\").cast(IntegerType()).alias(\"ID_Location\"),\n",
    "        sf.col(\"_c6\").cast(IntegerType()).alias(\"loginRegion\")\n",
    "    )\n",
    ")\n",
    "country = (\n",
    "    data_country\n",
    "    .select(\n",
    "        sf.col(\"_c0\").cast(LongType()).alias(\"ID_country\"),\n",
    "        sf.col(\"_c1\").alias(\"name_country\")\n",
    "    )\n",
    ")"
   ]
  },
  {
   "cell_type": "code",
   "execution_count": 6,
   "metadata": {},
   "outputs": [],
   "source": [
    "#udf функция для расчета возраста\n",
    "def find_year_diffdate(year_birth, month_birth, day_birth):\n",
    "    if year_birth:\n",
    "        if (month_birth < current_month) | (month_birth == current_month & day_birth <= current_day):\n",
    "            return current_year - year_birth\n",
    "        else:\n",
    "            return current_year - year_birth - 1\n",
    "    \n",
    "udf_datediff = sf.udf(find_year_diffdate, IntegerType())"
   ]
  },
  {
   "cell_type": "code",
   "execution_count": 10,
   "metadata": {},
   "outputs": [],
   "source": [
    "#подсчет кол-ва людей в каждой стране и средний возраст\n",
    "age_info = (\n",
    "        demography\n",
    "        .select(\n",
    "            sf.col(\"ID_country\").alias(\"country_id\"),\n",
    "            sf.from_unixtime(sf.col(\"birth_date\")*24*3600).alias(\"date\"),\n",
    "        )\n",
    "        .groupBy(\"country_id\")\n",
    "        .agg(\n",
    "            sf.count(\"country_id\").alias(\"user_cnt\"), \n",
    "            sf.avg(udf_datediff(sf.year(\"date\"), sf.month(\"date\"), sf.dayofmonth(\"date\"))).alias(\"age_avg\"),\n",
    "        )\n",
    "        .withColumn(\"age_avg\", sf.format_number(\"age_avg\", 2))\n",
    ")"
   ]
  },
  {
   "cell_type": "code",
   "execution_count": 11,
   "metadata": {},
   "outputs": [],
   "source": [
    "#подсчет кол-ва мужчин и женщин в каждой стране\n",
    "men_info = (\n",
    "        demography\n",
    "        .select(\n",
    "            sf.col(\"ID_country\").alias(\"country_id\"),\n",
    "            sf.col(\"gender\").alias(\"gender\"),\n",
    "        )\n",
    "        .where(sf.col(\"gender\") == 1)\n",
    "        .groupBy(\"country_id\")\n",
    "        .agg(\n",
    "            sf.count(sf.col(\"gender\")).alias(\"men_cnt\"),\n",
    "        )\n",
    ")\n",
    "\n",
    "women_info = (\n",
    "        demography\n",
    "        .select(\n",
    "            sf.col(\"ID_country\").alias(\"country_id\"),\n",
    "            sf.col(\"gender\").alias(\"gender\"),\n",
    "        )\n",
    "        .where(sf.col(\"gender\") == 2)\n",
    "        .groupBy(\"country_id\")\n",
    "        .agg(\n",
    "            sf.count(sf.col(\"gender\")).alias(\"women_cnt\"),\n",
    "        )\n",
    ")"
   ]
  },
  {
   "cell_type": "code",
   "execution_count": null,
   "metadata": {},
   "outputs": [],
   "source": [
    "#join всех нужных таблиц, получение итоговой витрины\n",
    "result_table = (\n",
    "    age_info\n",
    "    .join(women_info, age_info.country_id == women_info.country_id, how='left')\n",
    "    .join(men_info, age_info.country_id == men_info.country_id, how='left')\n",
    "    .join(country, age_info.country_id == country.ID_country, how='inner')\n",
    "    .select (\n",
    "        sf.col(\"name_country\"),\n",
    "        sf.col(\"user_cnt\"),\n",
    "        sf.col(\"age_avg\"),\n",
    "        sf.col(\"men_cnt\"),\n",
    "        sf.col(\"women_cnt\"),\n",
    "        sf.format_number(sf.col(\"men_cnt\") / sf.col(\"user_cnt\"),2).alias(\"men_share\"),\n",
    "        sf.format_number(sf.col(\"women_cnt\") / sf.col(\"user_cnt\"), 2).alias(\"women_share\")\n",
    "    )\n",
    ").fillna({'men_cnt': 0, 'women_cnt': 0,'men_share': 0.0,'women_share': 0.0}).show()"
   ]
  },
  {
   "cell_type": "code",
   "execution_count": 10,
   "metadata": {},
   "outputs": [],
   "source": [
    "# Сохранение результата на hdfs\n",
    "(result_table\n",
    " .repartition(1)\n",
    " .sortWithinPartitions(sf.col(\"user_cnt\").desc())\n",
    " .write\n",
    " .mode(\"overwrite\")\n",
    " .option(\"header\", \"true\")\n",
    " .option(\"sep\", \"\\t\")\n",
    " .csv(output_path)\n",
    ")"
   ]
  },
  {
   "cell_type": "code",
   "execution_count": 11,
   "metadata": {},
   "outputs": [],
   "source": [
    "# После работы обязательно отключаем спарк и отдаем ресурсы!\n",
    "spark.stop()"
   ]
  },
  {
   "cell_type": "code",
   "execution_count": null,
   "metadata": {},
   "outputs": [],
   "source": []
  }
 ],
 "metadata": {
  "kernelspec": {
   "display_name": "PySpark",
   "language": "",
   "name": "pysparkkernel"
  },
  "language_info": {
   "codemirror_mode": {
    "name": "python",
    "version": 2
   },
   "mimetype": "text/x-python",
   "name": "pyspark",
   "pygments_lexer": "python2"
  }
 },
 "nbformat": 4,
 "nbformat_minor": 2
}
